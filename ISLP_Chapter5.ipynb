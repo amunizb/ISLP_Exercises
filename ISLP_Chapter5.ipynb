{
 "cells": [
  {
   "cell_type": "code",
   "execution_count": 2,
   "id": "2dfb2c2a-9e65-416b-9750-764f86f100cb",
   "metadata": {},
   "outputs": [],
   "source": [
    "import numpy as np\n",
    "import pandas as pd\n",
    "from ISLP import load_data\n",
    "from sklearn.model_selection import train_test_split\n",
    "import statsmodels.api as sm"
   ]
  },
  {
   "cell_type": "markdown",
   "id": "3b086173-69b0-4412-be13-8bd6e6c89b7b",
   "metadata": {
    "jp-MarkdownHeadingCollapsed": true
   },
   "source": [
    "# Exercise 5"
   ]
  },
  {
   "cell_type": "code",
   "execution_count": 3,
   "id": "643ffd7d-fced-4f38-a751-c516401c2235",
   "metadata": {},
   "outputs": [
    {
     "data": {
      "text/html": [
       "<div>\n",
       "<style scoped>\n",
       "    .dataframe tbody tr th:only-of-type {\n",
       "        vertical-align: middle;\n",
       "    }\n",
       "\n",
       "    .dataframe tbody tr th {\n",
       "        vertical-align: top;\n",
       "    }\n",
       "\n",
       "    .dataframe thead th {\n",
       "        text-align: right;\n",
       "    }\n",
       "</style>\n",
       "<table border=\"1\" class=\"dataframe\">\n",
       "  <thead>\n",
       "    <tr style=\"text-align: right;\">\n",
       "      <th></th>\n",
       "      <th>default</th>\n",
       "      <th>student</th>\n",
       "      <th>balance</th>\n",
       "      <th>income</th>\n",
       "    </tr>\n",
       "  </thead>\n",
       "  <tbody>\n",
       "    <tr>\n",
       "      <th>0</th>\n",
       "      <td>No</td>\n",
       "      <td>No</td>\n",
       "      <td>729.526495</td>\n",
       "      <td>44361.625074</td>\n",
       "    </tr>\n",
       "    <tr>\n",
       "      <th>1</th>\n",
       "      <td>No</td>\n",
       "      <td>Yes</td>\n",
       "      <td>817.180407</td>\n",
       "      <td>12106.134700</td>\n",
       "    </tr>\n",
       "    <tr>\n",
       "      <th>2</th>\n",
       "      <td>No</td>\n",
       "      <td>No</td>\n",
       "      <td>1073.549164</td>\n",
       "      <td>31767.138947</td>\n",
       "    </tr>\n",
       "    <tr>\n",
       "      <th>3</th>\n",
       "      <td>No</td>\n",
       "      <td>No</td>\n",
       "      <td>529.250605</td>\n",
       "      <td>35704.493935</td>\n",
       "    </tr>\n",
       "    <tr>\n",
       "      <th>4</th>\n",
       "      <td>No</td>\n",
       "      <td>No</td>\n",
       "      <td>785.655883</td>\n",
       "      <td>38463.495879</td>\n",
       "    </tr>\n",
       "  </tbody>\n",
       "</table>\n",
       "</div>"
      ],
      "text/plain": [
       "  default student      balance        income\n",
       "0      No      No   729.526495  44361.625074\n",
       "1      No     Yes   817.180407  12106.134700\n",
       "2      No      No  1073.549164  31767.138947\n",
       "3      No      No   529.250605  35704.493935\n",
       "4      No      No   785.655883  38463.495879"
      ]
     },
     "execution_count": 3,
     "metadata": {},
     "output_type": "execute_result"
    }
   ],
   "source": [
    "Default = load_data('Default')\n",
    "Default.head()"
   ]
  },
  {
   "cell_type": "code",
   "execution_count": 4,
   "id": "639574d7-772b-417f-8cae-32d9d78ba45d",
   "metadata": {},
   "outputs": [],
   "source": [
    "X = Default.drop(columns=['default','student'])\n",
    "X = sm.add_constant(X)\n",
    "y = Default.default.map({'No':0, 'Yes':1})"
   ]
  },
  {
   "cell_type": "code",
   "execution_count": 5,
   "id": "3e87d44b-d499-4822-a31f-5919e3344d6d",
   "metadata": {},
   "outputs": [
    {
     "name": "stdout",
     "output_type": "stream",
     "text": [
      "Accuracy = 97.37%\n"
     ]
    }
   ],
   "source": [
    "#a)\n",
    "model = sm.GLM(y,\n",
    "               X,\n",
    "               family=sm.families.Binomial()\n",
    "              )\n",
    "results = model.fit()\n",
    "predictions = pd.Series(results.predict()).apply(lambda x: 1 if x >= 0.5 else 0)\n",
    "accuracy = np.mean(predictions == y)\n",
    "print(f'Accuracy = {accuracy*100:.2f}%')"
   ]
  },
  {
   "cell_type": "code",
   "execution_count": 6,
   "id": "e3a4ca91-0375-4377-a38b-f4d8ff204988",
   "metadata": {},
   "outputs": [
    {
     "name": "stdout",
     "output_type": "stream",
     "text": [
      "Accuracy = 97.48%\n"
     ]
    }
   ],
   "source": [
    "#b)\n",
    "X_train, X_val, y_train, y_val = train_test_split(X,\n",
    "                                                  y,\n",
    "                                                  random_state=1\n",
    "                                                 )\n",
    "model = sm.GLM(y_train,\n",
    "               X_train,\n",
    "               family=sm.families.Binomial()\n",
    "              )\n",
    "results = model.fit()\n",
    "predictions = pd.Series(results.predict(X_val)).apply(lambda x: 1 if x >= 0.5 else 0)\n",
    "accuracy = np.mean(predictions == y_val)\n",
    "print(f'Accuracy = {accuracy*100:.2f}%')"
   ]
  },
  {
   "cell_type": "code",
   "execution_count": 7,
   "id": "aa8b730f-854e-4fd3-947a-e548fcbcd699",
   "metadata": {},
   "outputs": [
    {
     "name": "stdout",
     "output_type": "stream",
     "text": [
      "Accuracy = 97.12%\n",
      "Accuracy = 97.48%\n",
      "Accuracy = 97.44%\n"
     ]
    }
   ],
   "source": [
    "for i in range(3):\n",
    "    X_train, X_val, y_train, y_val = train_test_split(X,\n",
    "                                                  y,\n",
    "                                                 random_state=i\n",
    "                                                 )\n",
    "    model = sm.GLM(y_train,\n",
    "                   X_train,\n",
    "                   family=sm.families.Binomial()\n",
    "                  )\n",
    "    results = model.fit()\n",
    "    predictions = pd.Series(results.predict(X_val)).apply(lambda x: 1 if x >= 0.5 else 0)\n",
    "    accuracy = np.mean(predictions == y_val)\n",
    "    print(f'Accuracy = {accuracy*100:.2f}%')\n",
    "    "
   ]
  },
  {
   "cell_type": "markdown",
   "id": "b875302b-8358-4071-87fb-03463e7cda20",
   "metadata": {
    "jp-MarkdownHeadingCollapsed": true
   },
   "source": [
    "# Exercise 6"
   ]
  },
  {
   "cell_type": "code",
   "execution_count": 8,
   "id": "8a55ddcd-d8a9-46bd-b3aa-1088164ff271",
   "metadata": {},
   "outputs": [
    {
     "name": "stdout",
     "output_type": "stream",
     "text": [
      "Accuracy = 97.12%\n"
     ]
    },
    {
     "data": {
      "text/html": [
       "<table class=\"simpletable\">\n",
       "<caption>Generalized Linear Model Regression Results</caption>\n",
       "<tr>\n",
       "  <th>Dep. Variable:</th>        <td>default</td>     <th>  No. Observations:  </th>  <td>  7500</td> \n",
       "</tr>\n",
       "<tr>\n",
       "  <th>Model:</th>                  <td>GLM</td>       <th>  Df Residuals:      </th>  <td>  7497</td> \n",
       "</tr>\n",
       "<tr>\n",
       "  <th>Model Family:</th>        <td>Binomial</td>     <th>  Df Model:          </th>  <td>     2</td> \n",
       "</tr>\n",
       "<tr>\n",
       "  <th>Link Function:</th>         <td>Logit</td>      <th>  Scale:             </th> <td>  1.0000</td>\n",
       "</tr>\n",
       "<tr>\n",
       "  <th>Method:</th>                <td>IRLS</td>       <th>  Log-Likelihood:    </th> <td> -574.73</td>\n",
       "</tr>\n",
       "<tr>\n",
       "  <th>Date:</th>            <td>Thu, 14 Nov 2024</td> <th>  Deviance:          </th> <td>  1149.5</td>\n",
       "</tr>\n",
       "<tr>\n",
       "  <th>Time:</th>                <td>09:19:58</td>     <th>  Pearson chi2:      </th> <td>3.49e+03</td>\n",
       "</tr>\n",
       "<tr>\n",
       "  <th>No. Iterations:</th>          <td>9</td>        <th>  Pseudo R-squ. (CS):</th>  <td>0.1195</td> \n",
       "</tr>\n",
       "<tr>\n",
       "  <th>Covariance Type:</th>     <td>nonrobust</td>    <th>                     </th>     <td> </td>   \n",
       "</tr>\n",
       "</table>\n",
       "<table class=\"simpletable\">\n",
       "<tr>\n",
       "     <td></td>        <th>coef</th>     <th>std err</th>      <th>z</th>      <th>P>|z|</th>  <th>[0.025</th>    <th>0.975]</th>  \n",
       "</tr>\n",
       "<tr>\n",
       "  <th>const</th>   <td>  -11.3110</td> <td>    0.502</td> <td>  -22.524</td> <td> 0.000</td> <td>  -12.295</td> <td>  -10.327</td>\n",
       "</tr>\n",
       "<tr>\n",
       "  <th>balance</th> <td>    0.0056</td> <td>    0.000</td> <td>   21.171</td> <td> 0.000</td> <td>    0.005</td> <td>    0.006</td>\n",
       "</tr>\n",
       "<tr>\n",
       "  <th>income</th>  <td> 1.619e-05</td> <td> 5.86e-06</td> <td>    2.765</td> <td> 0.006</td> <td> 4.71e-06</td> <td> 2.77e-05</td>\n",
       "</tr>\n",
       "</table>"
      ],
      "text/latex": [
       "\\begin{center}\n",
       "\\begin{tabular}{lclc}\n",
       "\\toprule\n",
       "\\textbf{Dep. Variable:}   &     default      & \\textbf{  No. Observations:  } &     7500    \\\\\n",
       "\\textbf{Model:}           &       GLM        & \\textbf{  Df Residuals:      } &     7497    \\\\\n",
       "\\textbf{Model Family:}    &     Binomial     & \\textbf{  Df Model:          } &        2    \\\\\n",
       "\\textbf{Link Function:}   &      Logit       & \\textbf{  Scale:             } &    1.0000   \\\\\n",
       "\\textbf{Method:}          &       IRLS       & \\textbf{  Log-Likelihood:    } &   -574.73   \\\\\n",
       "\\textbf{Date:}            & Thu, 14 Nov 2024 & \\textbf{  Deviance:          } &    1149.5   \\\\\n",
       "\\textbf{Time:}            &     09:19:58     & \\textbf{  Pearson chi2:      } &  3.49e+03   \\\\\n",
       "\\textbf{No. Iterations:}  &        9         & \\textbf{  Pseudo R-squ. (CS):} &   0.1195    \\\\\n",
       "\\textbf{Covariance Type:} &    nonrobust     & \\textbf{                     } &             \\\\\n",
       "\\bottomrule\n",
       "\\end{tabular}\n",
       "\\begin{tabular}{lcccccc}\n",
       "                 & \\textbf{coef} & \\textbf{std err} & \\textbf{z} & \\textbf{P$> |$z$|$} & \\textbf{[0.025} & \\textbf{0.975]}  \\\\\n",
       "\\midrule\n",
       "\\textbf{const}   &     -11.3110  &        0.502     &   -22.524  &         0.000        &      -12.295    &      -10.327     \\\\\n",
       "\\textbf{balance} &       0.0056  &        0.000     &    21.171  &         0.000        &        0.005    &        0.006     \\\\\n",
       "\\textbf{income}  &    1.619e-05  &     5.86e-06     &     2.765  &         0.006        &     4.71e-06    &     2.77e-05     \\\\\n",
       "\\bottomrule\n",
       "\\end{tabular}\n",
       "%\\caption{Generalized Linear Model Regression Results}\n",
       "\\end{center}"
      ],
      "text/plain": [
       "<class 'statsmodels.iolib.summary.Summary'>\n",
       "\"\"\"\n",
       "                 Generalized Linear Model Regression Results                  \n",
       "==============================================================================\n",
       "Dep. Variable:                default   No. Observations:                 7500\n",
       "Model:                            GLM   Df Residuals:                     7497\n",
       "Model Family:                Binomial   Df Model:                            2\n",
       "Link Function:                  Logit   Scale:                          1.0000\n",
       "Method:                          IRLS   Log-Likelihood:                -574.73\n",
       "Date:                Thu, 14 Nov 2024   Deviance:                       1149.5\n",
       "Time:                        09:19:58   Pearson chi2:                 3.49e+03\n",
       "No. Iterations:                     9   Pseudo R-squ. (CS):             0.1195\n",
       "Covariance Type:            nonrobust                                         \n",
       "==============================================================================\n",
       "                 coef    std err          z      P>|z|      [0.025      0.975]\n",
       "------------------------------------------------------------------------------\n",
       "const        -11.3110      0.502    -22.524      0.000     -12.295     -10.327\n",
       "balance        0.0056      0.000     21.171      0.000       0.005       0.006\n",
       "income      1.619e-05   5.86e-06      2.765      0.006    4.71e-06    2.77e-05\n",
       "==============================================================================\n",
       "\"\"\""
      ]
     },
     "execution_count": 8,
     "metadata": {},
     "output_type": "execute_result"
    }
   ],
   "source": [
    "X_train, X_val, y_train, y_val = train_test_split(X,\n",
    "                                                  y,\n",
    "                                                  random_state=0\n",
    "                                             )\n",
    "model = sm.GLM(y_train,\n",
    "               X_train,\n",
    "               family=sm.families.Binomial()\n",
    "              )\n",
    "results = model.fit()\n",
    "predictions = pd.Series(results.predict(X_val)).apply(lambda x: 1 if x >= 0.5 else 0)\n",
    "accuracy = np.mean(predictions == y_val)\n",
    "print(f'Accuracy = {accuracy*100:.2f}%')\n",
    "results.summary()"
   ]
  },
  {
   "cell_type": "code",
   "execution_count": 42,
   "id": "69d5d05d-d8f0-4dab-93b7-8f7541f5a954",
   "metadata": {},
   "outputs": [
    {
     "name": "stdout",
     "output_type": "stream",
     "text": [
      "Feature = balance\n",
      "Coefficient estimation = 0.005670005536816104\n",
      "Standard error = 0.0002111856054882717\n",
      " \n",
      "Feature = income\n",
      "Coefficient estimation = 2.0464448745637254e-05\n",
      "Standard error = 4.6858743638836686e-06\n",
      " \n"
     ]
    }
   ],
   "source": [
    "def boot_fn(data, index):\n",
    "    sample = data.iloc[index]\n",
    "\n",
    "    X = sample.drop('default', axis=1)\n",
    "    y = sample.default\n",
    "\n",
    "    model = sm.GLM(y,\n",
    "                   X,\n",
    "                   family=sm.families.Binomial()\n",
    "                  )\n",
    "    results = model.fit()\n",
    "    return results.params\n",
    "\n",
    "\n",
    "df = pd.concat([X, y], axis=1)\n",
    "n = df.shape[0]\n",
    "\n",
    "n_iter = 100\n",
    "rng = np.random.default_rng(seed=0)\n",
    "\n",
    "bootstrap_results = []\n",
    "for b in range(n_iter):\n",
    "    index = rng.integers(n, size=n)\n",
    "    coeffs = boot_fn(df, index)\n",
    "    bootstrap_results.append(coeffs)\n",
    "\n",
    "n_coeffs = len(bootstrap_results[0])\n",
    "for i in range(1, n_coeffs):\n",
    "    name = bootstrap_results[0].index[i]\n",
    "    coefficient_results = [results.iloc[i] for results in bootstrap_results]\n",
    "    mean = np.mean(coefficient_results)\n",
    "    std = np.std(coefficient_results)\n",
    "    print(f'Feature = {name}')\n",
    "    print(f'Coefficient estimation = {mean:}')\n",
    "    print(f'Standard error = {std}') \n",
    "    print(' ')\n",
    "    \n",
    "\n",
    "\n",
    "    \n",
    "    \n",
    "    "
   ]
  },
  {
   "cell_type": "markdown",
   "id": "7d9defd5-8ddb-4499-a21e-c7c3d456e8d6",
   "metadata": {},
   "source": [
    "# Exercise 7"
   ]
  },
  {
   "cell_type": "code",
   "execution_count": 67,
   "id": "bc02a465-65ed-4754-9837-9a1715e7e6a4",
   "metadata": {},
   "outputs": [],
   "source": [
    "from sklearn.model_selection import cross_validate, LeaveOneOut\n",
    "from sklearn.linear_model import LogisticRegression\n",
    "\n",
    "df = load_data('Weekly')\n",
    "\n",
    "features = ['Lag1', 'Lag2']\n",
    "X = df[features]\n",
    "# X = sm.add_constant(X)\n",
    "y = df.Direction.map({'Down':0, 'Up':1})\n",
    "y = np.asarray(y)\n",
    "\n"
   ]
  },
  {
   "cell_type": "code",
   "execution_count": 68,
   "id": "bb5f3661-2acb-4c2f-bb2d-2eb5f8e4c6d3",
   "metadata": {},
   "outputs": [
    {
     "data": {
      "text/plain": [
       "array([[-0.03872133,  0.06024715]])"
      ]
     },
     "execution_count": 68,
     "metadata": {},
     "output_type": "execute_result"
    }
   ],
   "source": [
    "\n",
    "model = LogisticRegression(penalty=None)\n",
    "results = model.fit(X,y)\n",
    "results.coef_"
   ]
  },
  {
   "cell_type": "code",
   "execution_count": 71,
   "id": "037024b0-e180-4d22-8331-da8ec630bb8d",
   "metadata": {},
   "outputs": [
    {
     "name": "stdout",
     "output_type": "stream",
     "text": [
      "Estimate of prediction error = 0.55\n"
     ]
    }
   ],
   "source": [
    "cv = LeaveOneOut()\n",
    "CV = cross_validate(model,\n",
    "               X,\n",
    "               y,\n",
    "               cv=cv\n",
    "              )\n",
    "print(f'Estimate of prediction error = {np.mean(CV['test_score']):.2f}')"
   ]
  },
  {
   "cell_type": "markdown",
   "id": "13e46a2a-f850-4903-a730-fc342a7c0c37",
   "metadata": {},
   "source": [
    "# Exercise 8"
   ]
  },
  {
   "cell_type": "code",
   "execution_count": 73,
   "id": "fe421192-4698-4019-bcfa-f76c5d92046b",
   "metadata": {},
   "outputs": [],
   "source": [
    "# a)\n",
    "rng = np.random. default_rng (1)\n",
    "x = rng.normal(size =100)\n",
    "y = x - 2 * x**2 + rng.normal(size =100)"
   ]
  },
  {
   "cell_type": "code",
   "execution_count": 86,
   "id": "e1b75578-10e3-457f-954b-6a7b4003d749",
   "metadata": {},
   "outputs": [
    {
     "data": {
      "text/plain": [
       "<matplotlib.legend.Legend at 0x16c38ce30>"
      ]
     },
     "execution_count": 86,
     "metadata": {},
     "output_type": "execute_result"
    },
    {
     "data": {
      "image/png": "[encoded data removed]",
      "text/plain": [
       "<Figure size 640x480 with 1 Axes>"
      ]
     },
     "metadata": {},
     "output_type": "display_data"
    }
   ],
   "source": [
    "#b)\n",
    "import matplotlib.pyplot as plt\n",
    "x_range = np.linspace(min(x), max(x), 100)\n",
    "\n",
    "plt.scatter(x,y, label='Sample data', s=5)\n",
    "plt.plot(x_range, x_range - 2 * x_range**2, color='r', label='True function')\n",
    "plt.legend()"
   ]
  },
  {
   "cell_type": "code",
   "execution_count": 119,
   "id": "d1d4acbe-09f4-41d0-9086-50f26e8e2f01",
   "metadata": {},
   "outputs": [],
   "source": [
    "df = pd.DataFrame({'X': x,\n",
    "                   'X^2' : x ** 2,\n",
    "                   'X^3': x ** 3,\n",
    "                   'X^4': x ** 4\n",
    "                  })\n",
    "cv = LeaveOneOut()\n",
    "\n",
    "degree_results = {'errors': [],\n",
    "              'parameters':[],\n",
    "                  'std': []\n",
    "             }\n",
    "linear_results = []\n",
    "params = []\n",
    "model = LinearRegression()\n",
    "for degree in range(4):\n",
    "    CV = cross_validate(model,\n",
    "                        df.iloc[:,:degree+1],\n",
    "                        y,\n",
    "                        cv=cv,\n",
    "                        scoring='neg_mean_squared_error',\n",
    "                        return_estimator=True\n",
    "                       )\n",
    "    degree_results['errors'].append(np.mean(CV['test_score']))\n",
    "    coefficients = [estimator.coef_ for estimator in CV['estimator']]\n",
    "    degree_results['parameters'].append([np.mean([x[i] for x in coefficients]) for i in range(len(coefficients[0]))])\n",
    "    degree_results['std'].append([np.std([x[i] for x in coefficients]) for i in range(len(coefficients[0]))])\n",
    "    \n",
    "    \n",
    "    model_sm = sm.OLS(y, df.iloc[:,:degree+1])\n",
    "    results = model_sm.fit()\n",
    "    linear_results.append(results)\n",
    "    \n",
    "\n"
   ]
  },
  {
   "cell_type": "code",
   "execution_count": 122,
   "id": "549bec59-c58b-43f9-b4cb-a326e1974cf2",
   "metadata": {},
   "outputs": [
    {
     "name": "stdout",
     "output_type": "stream",
     "text": [
      "                                 OLS Regression Results                                \n",
      "=======================================================================================\n",
      "Dep. Variable:                      y   R-squared (uncentered):                   0.285\n",
      "Model:                            OLS   Adj. R-squared (uncentered):              0.278\n",
      "Method:                 Least Squares   F-statistic:                              39.49\n",
      "Date:                Thu, 14 Nov 2024   Prob (F-statistic):                    8.88e-09\n",
      "Time:                        11:55:03   Log-Likelihood:                         -246.20\n",
      "No. Observations:                 100   AIC:                                      494.4\n",
      "Df Residuals:                      99   BIC:                                      497.0\n",
      "Df Model:                           1                                                  \n",
      "Covariance Type:            nonrobust                                                  \n",
      "==============================================================================\n",
      "                 coef    std err          t      P>|t|      [0.025      0.975]\n",
      "------------------------------------------------------------------------------\n",
      "X              2.0970      0.334      6.284      0.000       1.435       2.759\n",
      "==============================================================================\n",
      "Omnibus:                       53.303   Durbin-Watson:                   1.457\n",
      "Prob(Omnibus):                  0.000   Jarque-Bera (JB):              155.166\n",
      "Skew:                          -1.955   Prob(JB):                     2.02e-34\n",
      "Kurtosis:                       7.685   Cond. No.                         1.00\n",
      "==============================================================================\n",
      "\n",
      "Notes:\n",
      "[1] R² is computed without centering (uncentered) since the model does not contain a constant.\n",
      "[2] Standard Errors assume that the covariance matrix of the errors is correctly specified.\n",
      "                                 OLS Regression Results                                \n",
      "=======================================================================================\n",
      "Dep. Variable:                      y   R-squared (uncentered):                   0.912\n",
      "Model:                            OLS   Adj. R-squared (uncentered):              0.911\n",
      "Method:                 Least Squares   F-statistic:                              510.2\n",
      "Date:                Thu, 14 Nov 2024   Prob (F-statistic):                    1.55e-52\n",
      "Time:                        11:55:03   Log-Likelihood:                         -141.25\n",
      "No. Observations:                 100   AIC:                                      286.5\n",
      "Df Residuals:                      98   BIC:                                      291.7\n",
      "Df Model:                           2                                                  \n",
      "Covariance Type:            nonrobust                                                  \n",
      "==============================================================================\n",
      "                 coef    std err          t      P>|t|      [0.025      0.975]\n",
      "------------------------------------------------------------------------------\n",
      "X              0.9571      0.125      7.653      0.000       0.709       1.205\n",
      "X^2           -2.0341      0.077    -26.484      0.000      -2.186      -1.882\n",
      "==============================================================================\n",
      "Omnibus:                        1.876   Durbin-Watson:                   2.183\n",
      "Prob(Omnibus):                  0.391   Jarque-Bera (JB):                1.319\n",
      "Skew:                           0.158   Prob(JB):                        0.517\n",
      "Kurtosis:                       3.465   Cond. No.                         1.85\n",
      "==============================================================================\n",
      "\n",
      "Notes:\n",
      "[1] R² is computed without centering (uncentered) since the model does not contain a constant.\n",
      "[2] Standard Errors assume that the covariance matrix of the errors is correctly specified.\n",
      "                                 OLS Regression Results                                \n",
      "=======================================================================================\n",
      "Dep. Variable:                      y   R-squared (uncentered):                   0.914\n",
      "Model:                            OLS   Adj. R-squared (uncentered):              0.911\n",
      "Method:                 Least Squares   F-statistic:                              341.6\n",
      "Date:                Thu, 14 Nov 2024   Prob (F-statistic):                    2.08e-51\n",
      "Time:                        11:55:03   Log-Likelihood:                         -140.58\n",
      "No. Observations:                 100   AIC:                                      287.2\n",
      "Df Residuals:                      97   BIC:                                      295.0\n",
      "Df Model:                           3                                                  \n",
      "Covariance Type:            nonrobust                                                  \n",
      "==============================================================================\n",
      "                 coef    std err          t      P>|t|      [0.025      0.975]\n",
      "------------------------------------------------------------------------------\n",
      "X              1.1155      0.187      5.975      0.000       0.745       1.486\n",
      "X^2           -2.0721      0.084    -24.779      0.000      -2.238      -1.906\n",
      "X^3           -0.0678      0.059     -1.141      0.257      -0.186       0.050\n",
      "==============================================================================\n",
      "Omnibus:                        0.939   Durbin-Watson:                   2.190\n",
      "Prob(Omnibus):                  0.625   Jarque-Bera (JB):                0.470\n",
      "Skew:                           0.072   Prob(JB):                        0.791\n",
      "Kurtosis:                       3.303   Cond. No.                         5.93\n",
      "==============================================================================\n",
      "\n",
      "Notes:\n",
      "[1] R² is computed without centering (uncentered) since the model does not contain a constant.\n",
      "[2] Standard Errors assume that the covariance matrix of the errors is correctly specified.\n",
      "                                 OLS Regression Results                                \n",
      "=======================================================================================\n",
      "Dep. Variable:                      y   R-squared (uncentered):                   0.918\n",
      "Model:                            OLS   Adj. R-squared (uncentered):              0.914\n",
      "Method:                 Least Squares   F-statistic:                              268.1\n",
      "Date:                Thu, 14 Nov 2024   Prob (F-statistic):                    3.60e-51\n",
      "Time:                        11:55:03   Log-Likelihood:                         -138.02\n",
      "No. Observations:                 100   AIC:                                      284.0\n",
      "Df Residuals:                      96   BIC:                                      294.5\n",
      "Df Model:                           4                                                  \n",
      "Covariance Type:            nonrobust                                                  \n",
      "==============================================================================\n",
      "                 coef    std err          t      P>|t|      [0.025      0.975]\n",
      "------------------------------------------------------------------------------\n",
      "X              0.9377      0.199      4.704      0.000       0.542       1.333\n",
      "X^2           -2.3986      0.167    -14.371      0.000      -2.730      -2.067\n",
      "X^3            0.0224      0.071      0.317      0.752      -0.118       0.163\n",
      "X^4            0.0873      0.039      2.245      0.027       0.010       0.165\n",
      "==============================================================================\n",
      "Omnibus:                        2.038   Durbin-Watson:                   2.167\n",
      "Prob(Omnibus):                  0.361   Jarque-Bera (JB):                1.573\n",
      "Skew:                           0.094   Prob(JB):                        0.455\n",
      "Kurtosis:                       3.585   Cond. No.                         16.4\n",
      "==============================================================================\n",
      "\n",
      "Notes:\n",
      "[1] R² is computed without centering (uncentered) since the model does not contain a constant.\n",
      "[2] Standard Errors assume that the covariance matrix of the errors is correctly specified.\n"
     ]
    }
   ],
   "source": [
    "for i in range(4):\n",
    "    print(linear_results[i].summary())"
   ]
  },
  {
   "cell_type": "code",
   "execution_count": null,
   "id": "f0981a37-f798-413d-a3fc-1c33c13402a4",
   "metadata": {},
   "outputs": [],
   "source": []
  }
 ],
 "metadata": {
  "kernelspec": {
   "display_name": "Python 3 (ipykernel)",
   "language": "python",
   "name": "python3"
  },
  "language_info": {
   "codemirror_mode": {
    "name": "ipython",
    "version": 3
   },
   "file_extension": ".py",
   "mimetype": "text/x-python",
   "name": "python",
   "nbconvert_exporter": "python",
   "pygments_lexer": "ipython3",
   "version": "3.12.2"
  }
 },
 "nbformat": 4,
 "nbformat_minor": 5
}
